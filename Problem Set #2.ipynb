{
 "cells": [
  {
   "cell_type": "markdown",
   "metadata": {},
   "source": [
    "## Question 1. \n",
    "    Consider the following Python module:\n",
    "    a = 0\n",
    "    def b():\n",
    "     global a\n",
    "     a = c(a)\n",
    "    def c(a):\n",
    "     return a + 2\n",
    "    After importing the module into the interpreter, you execute:\n",
    "    b()\n",
    "    b()\n",
    "    b()\n",
    "    a\n",
    "    ?\n",
    "    What value is displayed when the last expression (a) is evaluated? Explain your\n",
    "    answer by indicating what happens in every executed statement.\n",
    "\n",
    "\n",
    "Answer: \n",
    "When the last expression (a) is evaluated the result will be 6, because funciton b() is defined as calling the global variable 'a' and performing function c() on 'a' everytime it is called. Function c(a) returns global variable 'a' + 2. When the funcotin b() is called for the first time, 'a' value is 0, and since c(a) is called inside b() at the end 'a' value is 2, and after calling b()  2 more times, each time 'a' value gets increamented by 2 with a result of 6 at the end of 3 function b() calls. "
   ]
  },
  {
   "cell_type": "markdown",
   "metadata": {},
   "source": [
    "## Question 2. \n",
    "    \n",
    "    Function fileLength(), given to you, takes the name of a file as input and returns the length of the file:\n",
    "\n",
    "    fileLength('midterm.py')\n",
    "    284\n",
    "    fileLength('idterm.py')\n",
    "    Traceback (most recent call last):\n",
    "    File \"<pyshell#34>\", line 1, in <module>\n",
    "     fileLength('idterm.py')\n",
    "    File \"/Users/me/midterm.py\", line 3, in fileLength\n",
    "     infile = open(filename)\n",
    "    FileNotFoundError: [Errno 2] No such file or directory:\n",
    "    'idterm.py'\n",
    "    As shown above, if the file cannot be found by the interpreter or if it cannot be read\n",
    "    as a text file, an exception will be raised. Modify function fileLength() so that a\n",
    "    friendly message is printed instead:\n",
    "    fileLength('midterm.py')\n",
    "    358\n",
    "    fileLength('idterm.py')\n",
    "    File idterm.py not found."
   ]
  },
  {
   "cell_type": "code",
   "execution_count": 1,
   "metadata": {},
   "outputs": [],
   "source": [
    "def file_length(file_name):\n",
    "    \n",
    "    '''\n",
    "    Function that returns the total length of  file by taking the filename as argument\n",
    "    \n",
    "    '''\n",
    "    # Writing a try catch block to catch the FIleNotFound exception and print a custom statement\n",
    "    \n",
    "    try:\n",
    "        file = open(file_name)\n",
    "        contents = file.read()\n",
    "        file.close()\n",
    "        print(len(contents))\n",
    "        \n",
    "    except FileNotFoundError:\n",
    "        print('File '+file_name+' not found')\n",
    "        \n",
    "    # List all other types of exceptions here    \n",
    "    except:\n",
    "        print(\"Some other Exception\")"
   ]
  },
  {
   "cell_type": "code",
   "execution_count": 2,
   "metadata": {},
   "outputs": [
    {
     "name": "stdout",
     "output_type": "stream",
     "text": [
      "File abc.py not found\n"
     ]
    }
   ],
   "source": [
    "file_length('abc.py')"
   ]
  },
  {
   "cell_type": "markdown",
   "metadata": {},
   "source": [
    "## Question 3.\n",
    "    Write a class named Marsupial that can be used as shown below:\n",
    "    >>> m = Marsupial()\n",
    "    >>> m.put_in_pouch('doll')\n",
    "    >>> m.put_in_pouch('firetruck')\n",
    "    >>> m.put_in_pouch('kitten')\n",
    "    >>> m.pouch_contents()\n",
    "    ['doll', 'firetruck', 'kitten']\n",
    "\n",
    "    Now write a class named Kangaroo as a subclass of Marsupial that inherits all the\n",
    "    attributes of Marsupial and also:\n",
    "    a. extends the Marsupial __init__ constructor to take, as input, the\n",
    "    coordinates x and y of the Kangaroo object,\n",
    "    b. supports method jump that takes number values dx and dy as input and\n",
    "    moves the kangaroo by dx units along the x-axis and by dy units along the yaxis, and\n",
    "    c. overloads the __str__ operator so it behaves as shown below.\n",
    "    >>> k = Kangaroo(0,0)\n",
    "    >>> print(k)\n",
    "    I am a Kangaroo located at coordinates (0,0)\n",
    "    >>> k.put_in_pouch('doll')\n",
    "    >>> k.put_in_pouch('firetruck')\n",
    "    >>> k.put_in_pouch('kitten')\n",
    "    >>> k.pouch_contents()\n",
    "    ['doll', 'firetruck', 'kitten']\n",
    "    >>> k.jump(1,0)\n",
    "    >>> k.jump(1,0)\n",
    "    >>> k.jump(1,0)\n",
    "    >>> print(k)\n",
    "    I am a Kangaroo located at coordinates (3,0)"
   ]
  },
  {
   "cell_type": "code",
   "execution_count": 3,
   "metadata": {},
   "outputs": [],
   "source": [
    "class Marsupial: \n",
    "    \n",
    "    '''\n",
    "    This class is called Marsupial and has 2 class functions in it.\n",
    "    \n",
    "    '''\n",
    "    # Writing a default constructor with an empty list\n",
    "    def __init__(self): \n",
    "        self.data = [] \n",
    "\n",
    "    def put_in_pouch(self,thing):\n",
    "        \n",
    "        '''\n",
    "        This function takes an input and upates it to the list\n",
    "        \n",
    "        '''\n",
    "        self.data.append(thing) \n",
    "\n",
    "    def pouch_contents(self):\n",
    "        \n",
    "        '''\n",
    "        This function shows the contents of the list\n",
    "        \n",
    "        '''\n",
    "        return self.data\n",
    "    "
   ]
  },
  {
   "cell_type": "code",
   "execution_count": 4,
   "metadata": {},
   "outputs": [
    {
     "data": {
      "text/plain": [
       "['doll', 'firetruck', 'kitten']"
      ]
     },
     "execution_count": 4,
     "metadata": {},
     "output_type": "execute_result"
    }
   ],
   "source": [
    "# Creating an object m for class Marsupial\n",
    "m = Marsupial()\n",
    "\n",
    "# Calling the fuction put_in_pouch to add items\n",
    "m.put_in_pouch('doll')\n",
    "m.put_in_pouch('firetruck')\n",
    "m.put_in_pouch('kitten')\n",
    "\n",
    "# Calling function pouch_contents to show the contents of the list\n",
    "m.pouch_contents()"
   ]
  },
  {
   "cell_type": "code",
   "execution_count": 5,
   "metadata": {},
   "outputs": [],
   "source": [
    "class Kangaroo(Marsupial):\n",
    "    \n",
    "    '''\n",
    "    The class Kangaroo inherits class Marsupial\n",
    "    \n",
    "    '''\n",
    "    # Writing a constructor for the class with 2 arguments x and y for position\n",
    "    def __init__(self,x,y):\n",
    "        self.x = x\n",
    "        self.y = y\n",
    "        Marsupial.__init__(self) #inheriting Marsupial class's constructor\n",
    "\n",
    "    def __str__(self):\n",
    "        \n",
    "        '''\n",
    "        This function overloads __str__ function to show the coordinates of Kangaroo class\n",
    "        \n",
    "        '''\n",
    "        return \"I am a Kangaroo located at coordinates ({},{})\".format(self.x, self.y)\n",
    "\n",
    "    def jump(self, dx,dy):\n",
    "        \n",
    "        '''\n",
    "        This function shifts the coordinates of the Kangaroo class by the amounts specified in the argument\n",
    "        \n",
    "        '''\n",
    "        self.x += dx\n",
    "        self.y += dy"
   ]
  },
  {
   "cell_type": "code",
   "execution_count": 6,
   "metadata": {},
   "outputs": [
    {
     "name": "stdout",
     "output_type": "stream",
     "text": [
      "I am a Kangaroo located at coordinates (0,0)\n"
     ]
    }
   ],
   "source": [
    "# Creating object 'k' for the class Kangaroo and initialising it with coordinates (0,0)\n",
    "k = Kangaroo(0,0)\n",
    "print(k)"
   ]
  },
  {
   "cell_type": "code",
   "execution_count": 7,
   "metadata": {},
   "outputs": [
    {
     "data": {
      "text/plain": [
       "['doll', 'firetruck', 'kitten']"
      ]
     },
     "execution_count": 7,
     "metadata": {},
     "output_type": "execute_result"
    }
   ],
   "source": [
    "# Adding items to kangaroo class using function inherited from Marsupial class\n",
    "k.put_in_pouch('doll')\n",
    "k.put_in_pouch('firetruck')\n",
    "k.put_in_pouch('kitten')\n",
    "\n",
    "# Showing the contents of Kangaroo class using function inherited from Marsupial\n",
    "k.pouch_contents()"
   ]
  },
  {
   "cell_type": "code",
   "execution_count": 8,
   "metadata": {},
   "outputs": [
    {
     "name": "stdout",
     "output_type": "stream",
     "text": [
      "I am a Kangaroo located at coordinates (5,9)\n"
     ]
    }
   ],
   "source": [
    "# Calling the jump function of Kangaroo class to shift the coordinates of the object\n",
    "k.jump(1,0)\n",
    "k.jump(1,2)\n",
    "k.jump(3,7)\n",
    "print(k)"
   ]
  },
  {
   "cell_type": "markdown",
   "metadata": {},
   "source": [
    "## Question 4.\n",
    "Implement a new GUI class App that combines user-defined tkinter widget classes\n",
    "Calculator and Mortgage displayed below: (This question can be done using a\n",
    ".py file)"
   ]
  },
  {
   "cell_type": "code",
   "execution_count": null,
   "metadata": {},
   "outputs": [],
   "source": []
  },
  {
   "cell_type": "code",
   "execution_count": null,
   "metadata": {},
   "outputs": [],
   "source": []
  },
  {
   "cell_type": "markdown",
   "metadata": {},
   "source": [
    "## Question 5.\n",
    "    Write function collatz() that takes a positive integer x as input and prints the\n",
    "    Collatz sequence starting at x. A Collatz sequence is obtained by repeatedly applying\n",
    "    this rule to the previous number x in the sequence:\n",
    "    x = {\n",
    "    𝑥/2 𝑖𝑓 𝑥 𝑖𝑠 𝑒𝑣𝑒𝑛\n",
    "    3𝑥 + 1 𝑖𝑓 𝑥 𝑖𝑠 𝑜𝑑d\n",
    "    Your function should stop when the sequence gets to number 1. Your\n",
    "    implementation must be recursive, without any loops.\n",
    "    >>> collatz(1)\n",
    "    1\n",
    "    >>> collatz(10)\n",
    "    10\n",
    "    5\n",
    "    16\n",
    "    8\n",
    "    4\n",
    "    2\n",
    "    1"
   ]
  },
  {
   "cell_type": "code",
   "execution_count": 9,
   "metadata": {},
   "outputs": [],
   "source": [
    "def collatz(n):\n",
    "    \n",
    "    '''\n",
    "    This function takes a positive integer abd prints the collatz sequence until it reaches 1\n",
    "    \n",
    "    '''\n",
    "    # using Recursive function to develop the logic of a collatz sequence\n",
    "    \n",
    "    if n == 1:\n",
    "        print (n)\n",
    "    else:\n",
    "        if (n%2==0):\n",
    "            print (n)\n",
    "            n = n/2\n",
    "        else:\n",
    "            print (n)\n",
    "            n = (3*n) + 1\n",
    "            \n",
    "        collatz(n)"
   ]
  },
  {
   "cell_type": "code",
   "execution_count": 10,
   "metadata": {},
   "outputs": [
    {
     "name": "stdout",
     "output_type": "stream",
     "text": [
      "10\n",
      "5.0\n",
      "16.0\n",
      "8.0\n",
      "4.0\n",
      "2.0\n",
      "1.0\n"
     ]
    }
   ],
   "source": [
    "collatz(10)"
   ]
  },
  {
   "cell_type": "markdown",
   "metadata": {},
   "source": [
    "## Question 6.\n",
    "    Write a recursive method binary() that takes a non-negative\n",
    "    integer n and prints the binary representation of integer n.\n",
    "    >>> binary(0)\n",
    "    0\n",
    "    >>> binary(1)\n",
    "    1\n",
    "    >>> binary(3)\n",
    "    11\n",
    "    >>> binary(9)\n",
    "    1001"
   ]
  },
  {
   "cell_type": "code",
   "execution_count": 11,
   "metadata": {},
   "outputs": [],
   "source": [
    "def binary(n):\n",
    "    \n",
    "    '''\n",
    "    Function to print binary number equivalent of a positive decimal input\n",
    "   \n",
    "    '''\n",
    "    # Using recursive function for binary conversion\n",
    "    if n > 1:\n",
    "        binary(n//2)\n",
    "    print(n % 2,end = '')\n",
    "   "
   ]
  },
  {
   "cell_type": "code",
   "execution_count": 12,
   "metadata": {},
   "outputs": [
    {
     "name": "stdout",
     "output_type": "stream",
     "text": [
      "100000"
     ]
    }
   ],
   "source": [
    "binary(32)"
   ]
  },
  {
   "cell_type": "code",
   "execution_count": 13,
   "metadata": {},
   "outputs": [],
   "source": [
    "from html.parser import HTMLParser\n",
    "from urllib.parse import urljoin\n",
    "from urllib.request import urlopen"
   ]
  },
  {
   "cell_type": "markdown",
   "metadata": {},
   "source": [
    "## Question 7.\n",
    "    Implement a class named HeadingParser that can be used to parse an HTML\n",
    "    document, and retrieve and print all the headings in the document. You should\n",
    "    implement your class as a subclass of HTMLParser, defined in Standard Library\n",
    "    module html.parser. When fed a string containing HTML code, your class should print the headings, one per line and in the order in which they appear in the\n",
    "    document. Each heading should be indented as follows: an h1 heading should have\n",
    "    indentation 0, and h2 heading should have indentation 1, etc. Test your\n",
    "    implementation using w3c.html.\n",
    "    >>> infile = open('w3c.html')\n",
    "    >>> content = infile.read()\n",
    "    >>> infile.close()\n",
    "    >>> hp = HeadingParser()\n",
    "    >>> hp.feed(content)\n",
    "    W3C Mission\n",
    "    Principles\n"
   ]
  },
  {
   "cell_type": "code",
   "execution_count": 14,
   "metadata": {},
   "outputs": [],
   "source": [
    "class HeadingParser(HTMLParser):\n",
    "    \n",
    "    '''\n",
    "    This class is created to parse through an HTML document and print the hedings\n",
    "    \n",
    "    '''\n",
    "    # Writing Constructor function\n",
    "    def __init__(self):\n",
    "        HTMLParser.__init__(self)\n",
    "        self.tag = ''\n",
    "        \n",
    "    def handle_starttag(self, tag, attrs):\n",
    "        \n",
    "        '''\n",
    "        This function is to catch the starting tag of a HTML program\n",
    "        \n",
    "        '''\n",
    "        self.tag = tag\n",
    "        \n",
    "    def handle_data(self, data):\n",
    "        if self.tag == 'h1':\n",
    "            print(data, end='')\n",
    "        elif self.tag == 'h2':\n",
    "            print (' '+data, end='')\n",
    "        elif self.tag == 'h3':\n",
    "            print ('  '+data, end ='')\n",
    "        elif self.tag =='h4':\n",
    "            print ('   '+data, end ='')\n",
    "        elif self.tag == 'h5':\n",
    "            print ('    '+data, end = '')\n",
    "        elif self.tag == 'h6':\n",
    "            print ('     '+data, end = '')"
   ]
  },
  {
   "cell_type": "code",
   "execution_count": 15,
   "metadata": {},
   "outputs": [
    {
     "name": "stdout",
     "output_type": "stream",
     "text": [
      "  HTML and CSS  \n",
      "            XML  \n",
      "              JavaScript  \n",
      "            Programming  \n",
      "            Server Side  \n",
      "            Web Building  \n",
      "            XML  \n",
      "            HTML  \n",
      "            CSS  \n",
      "            JavaScript  \n",
      "            Programming  \n",
      "            Server Side  \n",
      "            XML  \n",
      "            Character Sets  \n",
      "            Exercises  \n",
      "            Quizzes  \n",
      "           LOG IN \n",
      "        HTML Easy Learning with HTML \"Try it Yourself\" \n",
      "  Example  \n",
      " HTML Examples \n",
      " HTML Exercises \n",
      " Test Yourself With Exercises \n",
      " Exercise: \n",
      " HTML Quiz Test \n",
      " HTML References \n",
      " HTML Exam - Get Your Diploma! \n",
      " W3Schools' Online Certification \n",
      "   SHARE   \n",
      " Report Error \n",
      "\n",
      " Thank You For Helping Us! \n",
      "   Top Tutorials   \n",
      "   Top References   \n",
      "   Top Examples   \n",
      "   Web Certificates   \n"
     ]
    }
   ],
   "source": [
    "infile = open('w3c.html')\n",
    "content = infile.read()\n",
    "infile.close()\n",
    "hp = HeadingParser()\n",
    "hp.feed(content)"
   ]
  },
  {
   "cell_type": "markdown",
   "metadata": {},
   "source": [
    "## Question 8.\n",
    "    Implement recursive function webdir() that takes as input: a URL (as a string) and\n",
    "    non-negative integers depth and indent. Your function should visit every web\n",
    "    page reachable from the starting URL web page in depth clicks or less, and print\n",
    "    each web page's URL. As shown below, indentation, specified by indent, should\n",
    "    be used to indicate the depth of a URL.\n",
    "    >>>\n",
    "    webdir('http://reed.cs.depaul.edu/lperkovic/csc242/test1.html'\n",
    "    , 2, 0)\n",
    "    http://reed.cs.depaul.edu/lperkovic/csc242/test1.html\n",
    "     http://reed.cs.depaul.edu/lperkovic/csc242/test2.html\n",
    "     http://reed.cs.depaul.edu/lperkovic/csc242/test4.html\n",
    "     http://reed.cs.depaul.edu/lperkovic/csc242/test3.html\n",
    "     http://reed.cs.depaul.edu/lperkovic/csc242/test4.html"
   ]
  },
  {
   "cell_type": "code",
   "execution_count": 16,
   "metadata": {},
   "outputs": [],
   "source": [
    "class Collector(HTMLParser):\n",
    "    \n",
    "    def __init__(self,url):\n",
    "        HTMLParser.__init__(self)\n",
    "        self.url = url\n",
    "        self.links = []\n",
    "    def handle_startag(self,tag,attrs):\n",
    "        if tag == 'a':\n",
    "            for attr in attrs:\n",
    "                if attr[0] == 'href':\n",
    "                    absolute = urljoin(self.url,attr[1])\n",
    "                    if absolute[:4] == 'http':\n",
    "                        self.links.append(absolute)\n",
    "    def getLinks(self):\n",
    "        return self.links\n",
    "    "
   ]
  },
  {
   "cell_type": "code",
   "execution_count": 17,
   "metadata": {},
   "outputs": [],
   "source": [
    "def analyze(url):\n",
    "    content = urlopen(url).read().decode()\n",
    "    collector = Collector(url)\n",
    "    collector.feed(content)\n",
    "    return collector.getLinks()"
   ]
  },
  {
   "cell_type": "code",
   "execution_count": 18,
   "metadata": {},
   "outputs": [],
   "source": [
    "visited = set()\n",
    "def webdir(url,depth,indent):\n",
    "    global visited\n",
    "    if depth == 0:\n",
    "        return\n",
    "    print(' '*indent,url)\n",
    "    indent += 1\n",
    "    depth -= 1\n",
    "    visited.add(url)\n",
    "    links = analyze(url)\n",
    "    for link in links:\n",
    "        if link not in visited:\n",
    "            try:\n",
    "                webdir(link,depth,indent)\n",
    "            except:\n",
    "                pass"
   ]
  },
  {
   "cell_type": "code",
   "execution_count": 19,
   "metadata": {},
   "outputs": [
    {
     "name": "stdout",
     "output_type": "stream",
     "text": [
      " http://reed.cs.depaul.edu/lperkovic/\n"
     ]
    }
   ],
   "source": [
    "webdir(\"http://reed.cs.depaul.edu/lperkovic/\",3,0)"
   ]
  },
  {
   "cell_type": "markdown",
   "metadata": {},
   "source": [
    "## Question 9.\n",
    "    Write SQL queries on the below database table that return:\n",
    "    a) All the temperature data.\n",
    "    b) All the cities, but without repetition\n",
    "    c) All the records for India.\n",
    "    d) All the Fall records.\n",
    "    e) The city, country, and season for which the average rainfall is between 200\n",
    "    and 400 millimeters.\n",
    "    f) The city and country for which the average Fall temperature is above 20\n",
    "    degrees, in increasing temperature order.\n",
    "    g) The total annual rainfall for Cairo.\n",
    "    h) The total rainfall for each season.\n"
   ]
  },
  {
   "cell_type": "code",
   "execution_count": 20,
   "metadata": {},
   "outputs": [],
   "source": [
    "## Loading the SQL Module in Jupyetr Notebook\n",
    "%load_ext sql"
   ]
  },
  {
   "cell_type": "code",
   "execution_count": 21,
   "metadata": {},
   "outputs": [],
   "source": [
    "## Connecting to SQL Lite \n",
    "%sql sqlite://"
   ]
  },
  {
   "cell_type": "code",
   "execution_count": 23,
   "metadata": {},
   "outputs": [
    {
     "name": "stdout",
     "output_type": "stream",
     "text": [
      " * sqlite://\n",
      "Done.\n"
     ]
    },
    {
     "data": {
      "text/plain": [
       "[]"
      ]
     },
     "execution_count": 23,
     "metadata": {},
     "output_type": "execute_result"
    }
   ],
   "source": [
    "\n",
    "%%sql\n",
    "CREATE TABLE RainfallSummary (City varchar(50), Country varchar(50), Season varchar(50), Temperature float, Rainfall float)"
   ]
  },
  {
   "cell_type": "code",
   "execution_count": 24,
   "metadata": {},
   "outputs": [
    {
     "name": "stdout",
     "output_type": "stream",
     "text": [
      " * sqlite://\n",
      "1 rows affected.\n",
      "1 rows affected.\n",
      "1 rows affected.\n",
      "1 rows affected.\n",
      "1 rows affected.\n",
      "1 rows affected.\n",
      "1 rows affected.\n",
      "1 rows affected.\n",
      "1 rows affected.\n",
      "1 rows affected.\n",
      "1 rows affected.\n",
      "1 rows affected.\n"
     ]
    },
    {
     "data": {
      "text/plain": [
       "[]"
      ]
     },
     "execution_count": 24,
     "metadata": {},
     "output_type": "execute_result"
    }
   ],
   "source": [
    "\n",
    "%%sql\n",
    "INSERT INTO RainfallSummary VALUES ('Mumbai','India','Winter',24.8,5.9);\n",
    "INSERT INTO RainfallSummary VALUES ('Mumbai','India','Spring',28.4,16.2);\n",
    "INSERT INTO RainfallSummary VALUES ('Mumbai','India','Summer',27.9,1549.4);\n",
    "INSERT INTO RainfallSummary VALUES ('Mumbai','India','Fall',27.6,346.0);\n",
    "INSERT INTO RainfallSummary VALUES ('London','United Kingdom','Winter',4.2,207.7);\n",
    "INSERT INTO RainfallSummary VALUES ('London','United Kingdom','Spring',8.3,169.6);\n",
    "INSERT INTO RainfallSummary VALUES ('London','United Kingdom','Summer',15.7,157.0);\n",
    "INSERT INTO RainfallSummary VALUES ('London','United Kingdom','Fall',10.4,218.5);\n",
    "INSERT INTO RainfallSummary VALUES ('Cairo','Egypt','Winter',13.6,16.5);\n",
    "INSERT INTO RainfallSummary VALUES ('Cairo','Egypt','Spring',20.7,6.5);\n",
    "INSERT INTO RainfallSummary VALUES ('Cairo','Egypt','Summer',27.7,0.1);\n",
    "INSERT INTO RainfallSummary VALUES ('Cairo','Egypt','Fall',22.2,4.5);\n"
   ]
  },
  {
   "cell_type": "code",
   "execution_count": 25,
   "metadata": {},
   "outputs": [
    {
     "name": "stdout",
     "output_type": "stream",
     "text": [
      " * sqlite://\n",
      "Done.\n"
     ]
    },
    {
     "data": {
      "text/html": [
       "<table>\n",
       "    <tr>\n",
       "        <th>City</th>\n",
       "        <th>Country</th>\n",
       "        <th>Season</th>\n",
       "        <th>Temperature</th>\n",
       "        <th>Rainfall</th>\n",
       "    </tr>\n",
       "    <tr>\n",
       "        <td>Mumbai</td>\n",
       "        <td>India</td>\n",
       "        <td>Winter</td>\n",
       "        <td>24.8</td>\n",
       "        <td>5.9</td>\n",
       "    </tr>\n",
       "    <tr>\n",
       "        <td>Mumbai</td>\n",
       "        <td>India</td>\n",
       "        <td>Spring</td>\n",
       "        <td>28.4</td>\n",
       "        <td>16.2</td>\n",
       "    </tr>\n",
       "    <tr>\n",
       "        <td>Mumbai</td>\n",
       "        <td>India</td>\n",
       "        <td>Summer</td>\n",
       "        <td>27.9</td>\n",
       "        <td>1549.4</td>\n",
       "    </tr>\n",
       "    <tr>\n",
       "        <td>Mumbai</td>\n",
       "        <td>India</td>\n",
       "        <td>Fall</td>\n",
       "        <td>27.6</td>\n",
       "        <td>346.0</td>\n",
       "    </tr>\n",
       "    <tr>\n",
       "        <td>London</td>\n",
       "        <td>United Kingdom</td>\n",
       "        <td>Winter</td>\n",
       "        <td>4.2</td>\n",
       "        <td>207.7</td>\n",
       "    </tr>\n",
       "    <tr>\n",
       "        <td>London</td>\n",
       "        <td>United Kingdom</td>\n",
       "        <td>Spring</td>\n",
       "        <td>8.3</td>\n",
       "        <td>169.6</td>\n",
       "    </tr>\n",
       "    <tr>\n",
       "        <td>London</td>\n",
       "        <td>United Kingdom</td>\n",
       "        <td>Summer</td>\n",
       "        <td>15.7</td>\n",
       "        <td>157.0</td>\n",
       "    </tr>\n",
       "    <tr>\n",
       "        <td>London</td>\n",
       "        <td>United Kingdom</td>\n",
       "        <td>Fall</td>\n",
       "        <td>10.4</td>\n",
       "        <td>218.5</td>\n",
       "    </tr>\n",
       "    <tr>\n",
       "        <td>Cairo</td>\n",
       "        <td>Egypt</td>\n",
       "        <td>Winter</td>\n",
       "        <td>13.6</td>\n",
       "        <td>16.5</td>\n",
       "    </tr>\n",
       "    <tr>\n",
       "        <td>Cairo</td>\n",
       "        <td>Egypt</td>\n",
       "        <td>Spring</td>\n",
       "        <td>20.7</td>\n",
       "        <td>6.5</td>\n",
       "    </tr>\n",
       "    <tr>\n",
       "        <td>Cairo</td>\n",
       "        <td>Egypt</td>\n",
       "        <td>Summer</td>\n",
       "        <td>27.7</td>\n",
       "        <td>0.1</td>\n",
       "    </tr>\n",
       "    <tr>\n",
       "        <td>Cairo</td>\n",
       "        <td>Egypt</td>\n",
       "        <td>Fall</td>\n",
       "        <td>22.2</td>\n",
       "        <td>4.5</td>\n",
       "    </tr>\n",
       "</table>"
      ],
      "text/plain": [
       "[('Mumbai', 'India', 'Winter', 24.8, 5.9),\n",
       " ('Mumbai', 'India', 'Spring', 28.4, 16.2),\n",
       " ('Mumbai', 'India', 'Summer', 27.9, 1549.4),\n",
       " ('Mumbai', 'India', 'Fall', 27.6, 346.0),\n",
       " ('London', 'United Kingdom', 'Winter', 4.2, 207.7),\n",
       " ('London', 'United Kingdom', 'Spring', 8.3, 169.6),\n",
       " ('London', 'United Kingdom', 'Summer', 15.7, 157.0),\n",
       " ('London', 'United Kingdom', 'Fall', 10.4, 218.5),\n",
       " ('Cairo', 'Egypt', 'Winter', 13.6, 16.5),\n",
       " ('Cairo', 'Egypt', 'Spring', 20.7, 6.5),\n",
       " ('Cairo', 'Egypt', 'Summer', 27.7, 0.1),\n",
       " ('Cairo', 'Egypt', 'Fall', 22.2, 4.5)]"
      ]
     },
     "execution_count": 25,
     "metadata": {},
     "output_type": "execute_result"
    }
   ],
   "source": [
    "\n",
    "%%sql\n",
    "SELECT * FROM RainfallSummary"
   ]
  },
  {
   "cell_type": "code",
   "execution_count": 26,
   "metadata": {},
   "outputs": [
    {
     "name": "stdout",
     "output_type": "stream",
     "text": [
      " * sqlite://\n",
      "Done.\n"
     ]
    },
    {
     "data": {
      "text/html": [
       "<table>\n",
       "    <tr>\n",
       "        <th>Temperature</th>\n",
       "    </tr>\n",
       "    <tr>\n",
       "        <td>24.8</td>\n",
       "    </tr>\n",
       "    <tr>\n",
       "        <td>28.4</td>\n",
       "    </tr>\n",
       "    <tr>\n",
       "        <td>27.9</td>\n",
       "    </tr>\n",
       "    <tr>\n",
       "        <td>27.6</td>\n",
       "    </tr>\n",
       "    <tr>\n",
       "        <td>4.2</td>\n",
       "    </tr>\n",
       "    <tr>\n",
       "        <td>8.3</td>\n",
       "    </tr>\n",
       "    <tr>\n",
       "        <td>15.7</td>\n",
       "    </tr>\n",
       "    <tr>\n",
       "        <td>10.4</td>\n",
       "    </tr>\n",
       "    <tr>\n",
       "        <td>13.6</td>\n",
       "    </tr>\n",
       "    <tr>\n",
       "        <td>20.7</td>\n",
       "    </tr>\n",
       "    <tr>\n",
       "        <td>27.7</td>\n",
       "    </tr>\n",
       "    <tr>\n",
       "        <td>22.2</td>\n",
       "    </tr>\n",
       "</table>"
      ],
      "text/plain": [
       "[(24.8,),\n",
       " (28.4,),\n",
       " (27.9,),\n",
       " (27.6,),\n",
       " (4.2,),\n",
       " (8.3,),\n",
       " (15.7,),\n",
       " (10.4,),\n",
       " (13.6,),\n",
       " (20.7,),\n",
       " (27.7,),\n",
       " (22.2,)]"
      ]
     },
     "execution_count": 26,
     "metadata": {},
     "output_type": "execute_result"
    }
   ],
   "source": [
    "\n",
    "%%sql\n",
    "SELECT Temperature FROM RainfallSummary"
   ]
  },
  {
   "cell_type": "code",
   "execution_count": 27,
   "metadata": {},
   "outputs": [
    {
     "name": "stdout",
     "output_type": "stream",
     "text": [
      " * sqlite://\n",
      "Done.\n"
     ]
    },
    {
     "data": {
      "text/html": [
       "<table>\n",
       "    <tr>\n",
       "        <th>City</th>\n",
       "    </tr>\n",
       "    <tr>\n",
       "        <td>Mumbai</td>\n",
       "    </tr>\n",
       "    <tr>\n",
       "        <td>London</td>\n",
       "    </tr>\n",
       "    <tr>\n",
       "        <td>Cairo</td>\n",
       "    </tr>\n",
       "</table>"
      ],
      "text/plain": [
       "[('Mumbai',), ('London',), ('Cairo',)]"
      ]
     },
     "execution_count": 27,
     "metadata": {},
     "output_type": "execute_result"
    }
   ],
   "source": [
    "\n",
    "%%sql\n",
    "SELECT DISTINCT City FROM RainfallSummary"
   ]
  },
  {
   "cell_type": "code",
   "execution_count": 28,
   "metadata": {},
   "outputs": [
    {
     "name": "stdout",
     "output_type": "stream",
     "text": [
      " * sqlite://\n",
      "Done.\n"
     ]
    },
    {
     "data": {
      "text/html": [
       "<table>\n",
       "    <tr>\n",
       "        <th>City</th>\n",
       "        <th>Country</th>\n",
       "        <th>Season</th>\n",
       "        <th>Temperature</th>\n",
       "        <th>Rainfall</th>\n",
       "    </tr>\n",
       "    <tr>\n",
       "        <td>Mumbai</td>\n",
       "        <td>India</td>\n",
       "        <td>Winter</td>\n",
       "        <td>24.8</td>\n",
       "        <td>5.9</td>\n",
       "    </tr>\n",
       "    <tr>\n",
       "        <td>Mumbai</td>\n",
       "        <td>India</td>\n",
       "        <td>Spring</td>\n",
       "        <td>28.4</td>\n",
       "        <td>16.2</td>\n",
       "    </tr>\n",
       "    <tr>\n",
       "        <td>Mumbai</td>\n",
       "        <td>India</td>\n",
       "        <td>Summer</td>\n",
       "        <td>27.9</td>\n",
       "        <td>1549.4</td>\n",
       "    </tr>\n",
       "    <tr>\n",
       "        <td>Mumbai</td>\n",
       "        <td>India</td>\n",
       "        <td>Fall</td>\n",
       "        <td>27.6</td>\n",
       "        <td>346.0</td>\n",
       "    </tr>\n",
       "</table>"
      ],
      "text/plain": [
       "[('Mumbai', 'India', 'Winter', 24.8, 5.9),\n",
       " ('Mumbai', 'India', 'Spring', 28.4, 16.2),\n",
       " ('Mumbai', 'India', 'Summer', 27.9, 1549.4),\n",
       " ('Mumbai', 'India', 'Fall', 27.6, 346.0)]"
      ]
     },
     "execution_count": 28,
     "metadata": {},
     "output_type": "execute_result"
    }
   ],
   "source": [
    "\n",
    "%%sql\n",
    "SELECT * FROM RainfallSummary WHERE Country = 'India'"
   ]
  },
  {
   "cell_type": "code",
   "execution_count": 29,
   "metadata": {},
   "outputs": [
    {
     "name": "stdout",
     "output_type": "stream",
     "text": [
      " * sqlite://\n",
      "Done.\n"
     ]
    },
    {
     "data": {
      "text/html": [
       "<table>\n",
       "    <tr>\n",
       "        <th>City</th>\n",
       "        <th>Country</th>\n",
       "        <th>Season</th>\n",
       "        <th>Temperature</th>\n",
       "        <th>Rainfall</th>\n",
       "    </tr>\n",
       "    <tr>\n",
       "        <td>Mumbai</td>\n",
       "        <td>India</td>\n",
       "        <td>Fall</td>\n",
       "        <td>27.6</td>\n",
       "        <td>346.0</td>\n",
       "    </tr>\n",
       "    <tr>\n",
       "        <td>London</td>\n",
       "        <td>United Kingdom</td>\n",
       "        <td>Fall</td>\n",
       "        <td>10.4</td>\n",
       "        <td>218.5</td>\n",
       "    </tr>\n",
       "    <tr>\n",
       "        <td>Cairo</td>\n",
       "        <td>Egypt</td>\n",
       "        <td>Fall</td>\n",
       "        <td>22.2</td>\n",
       "        <td>4.5</td>\n",
       "    </tr>\n",
       "</table>"
      ],
      "text/plain": [
       "[('Mumbai', 'India', 'Fall', 27.6, 346.0),\n",
       " ('London', 'United Kingdom', 'Fall', 10.4, 218.5),\n",
       " ('Cairo', 'Egypt', 'Fall', 22.2, 4.5)]"
      ]
     },
     "execution_count": 29,
     "metadata": {},
     "output_type": "execute_result"
    }
   ],
   "source": [
    "\n",
    "%%sql\n",
    "SELECT * FROM RainfallSummary WHERE Season = 'Fall'"
   ]
  },
  {
   "cell_type": "code",
   "execution_count": 30,
   "metadata": {},
   "outputs": [
    {
     "name": "stdout",
     "output_type": "stream",
     "text": [
      " * sqlite://\n",
      "Done.\n"
     ]
    },
    {
     "data": {
      "text/html": [
       "<table>\n",
       "    <tr>\n",
       "        <th>City</th>\n",
       "        <th>Country</th>\n",
       "        <th>Season</th>\n",
       "        <th>Temperature</th>\n",
       "        <th>Rainfall</th>\n",
       "    </tr>\n",
       "    <tr>\n",
       "        <td>Mumbai</td>\n",
       "        <td>India</td>\n",
       "        <td>Fall</td>\n",
       "        <td>27.6</td>\n",
       "        <td>346.0</td>\n",
       "    </tr>\n",
       "    <tr>\n",
       "        <td>London</td>\n",
       "        <td>United Kingdom</td>\n",
       "        <td>Winter</td>\n",
       "        <td>4.2</td>\n",
       "        <td>207.7</td>\n",
       "    </tr>\n",
       "    <tr>\n",
       "        <td>London</td>\n",
       "        <td>United Kingdom</td>\n",
       "        <td>Fall</td>\n",
       "        <td>10.4</td>\n",
       "        <td>218.5</td>\n",
       "    </tr>\n",
       "</table>"
      ],
      "text/plain": [
       "[('Mumbai', 'India', 'Fall', 27.6, 346.0),\n",
       " ('London', 'United Kingdom', 'Winter', 4.2, 207.7),\n",
       " ('London', 'United Kingdom', 'Fall', 10.4, 218.5)]"
      ]
     },
     "execution_count": 30,
     "metadata": {},
     "output_type": "execute_result"
    }
   ],
   "source": [
    "\n",
    "%%sql\n",
    "SELECT * FROM RainfallSummary WHERE Rainfall >= 200 AND Rainfall <= 400"
   ]
  },
  {
   "cell_type": "code",
   "execution_count": 31,
   "metadata": {},
   "outputs": [
    {
     "name": "stdout",
     "output_type": "stream",
     "text": [
      " * sqlite://\n",
      "Done.\n"
     ]
    },
    {
     "data": {
      "text/html": [
       "<table>\n",
       "    <tr>\n",
       "        <th>City</th>\n",
       "        <th>Country</th>\n",
       "    </tr>\n",
       "    <tr>\n",
       "        <td>Cairo</td>\n",
       "        <td>Egypt</td>\n",
       "    </tr>\n",
       "    <tr>\n",
       "        <td>Cairo</td>\n",
       "        <td>Egypt</td>\n",
       "    </tr>\n",
       "    <tr>\n",
       "        <td>Mumbai</td>\n",
       "        <td>India</td>\n",
       "    </tr>\n",
       "    <tr>\n",
       "        <td>Mumbai</td>\n",
       "        <td>India</td>\n",
       "    </tr>\n",
       "    <tr>\n",
       "        <td>Cairo</td>\n",
       "        <td>Egypt</td>\n",
       "    </tr>\n",
       "    <tr>\n",
       "        <td>Mumbai</td>\n",
       "        <td>India</td>\n",
       "    </tr>\n",
       "    <tr>\n",
       "        <td>Mumbai</td>\n",
       "        <td>India</td>\n",
       "    </tr>\n",
       "</table>"
      ],
      "text/plain": [
       "[('Cairo', 'Egypt'),\n",
       " ('Cairo', 'Egypt'),\n",
       " ('Mumbai', 'India'),\n",
       " ('Mumbai', 'India'),\n",
       " ('Cairo', 'Egypt'),\n",
       " ('Mumbai', 'India'),\n",
       " ('Mumbai', 'India')]"
      ]
     },
     "execution_count": 31,
     "metadata": {},
     "output_type": "execute_result"
    }
   ],
   "source": [
    "\n",
    "%%sql\n",
    "SELECT City, Country FROM RainfallSummary WHERE Temperature > 20.0 ORDER BY Temperature ASC"
   ]
  },
  {
   "cell_type": "code",
   "execution_count": 32,
   "metadata": {},
   "outputs": [
    {
     "name": "stdout",
     "output_type": "stream",
     "text": [
      " * sqlite://\n",
      "Done.\n"
     ]
    },
    {
     "data": {
      "text/html": [
       "<table>\n",
       "    <tr>\n",
       "        <th>SUM(Rainfall)</th>\n",
       "    </tr>\n",
       "    <tr>\n",
       "        <td>27.6</td>\n",
       "    </tr>\n",
       "</table>"
      ],
      "text/plain": [
       "[(27.6,)]"
      ]
     },
     "execution_count": 32,
     "metadata": {},
     "output_type": "execute_result"
    }
   ],
   "source": [
    "\n",
    "%%sql\n",
    "SELECT SUM(Rainfall) FROM RainfallSummary Where City = 'Cairo'\n"
   ]
  },
  {
   "cell_type": "code",
   "execution_count": 33,
   "metadata": {},
   "outputs": [
    {
     "name": "stdout",
     "output_type": "stream",
     "text": [
      " * sqlite://\n",
      "Done.\n"
     ]
    },
    {
     "data": {
      "text/html": [
       "<table>\n",
       "    <tr>\n",
       "        <th>SUM(Rainfall)</th>\n",
       "    </tr>\n",
       "    <tr>\n",
       "        <td>569.0</td>\n",
       "    </tr>\n",
       "    <tr>\n",
       "        <td>192.29999999999998</td>\n",
       "    </tr>\n",
       "    <tr>\n",
       "        <td>1706.5</td>\n",
       "    </tr>\n",
       "    <tr>\n",
       "        <td>230.1</td>\n",
       "    </tr>\n",
       "</table>"
      ],
      "text/plain": [
       "[(569.0,), (192.29999999999998,), (1706.5,), (230.1,)]"
      ]
     },
     "execution_count": 33,
     "metadata": {},
     "output_type": "execute_result"
    }
   ],
   "source": [
    "\n",
    "%%sql\n",
    "SELECt SUM(Rainfall) FROM RainfallSummary GROUP BY Season"
   ]
  },
  {
   "cell_type": "markdown",
   "metadata": {},
   "source": [
    "## Question 10.\n",
    "    Suppose list words is defined as follows:\n",
    "    >>> words = ['The', 'quick', 'brown', 'fox', 'jumps', 'over',\n",
    "    'the', 'lazy', 'dog']\n",
    "    Write list comprehension expressions that use list words and generate the following\n",
    "    lists:\n",
    "    a) ['THE', 'QUICK', 'BROWN', 'FOX', 'JUMPS', 'OVER', 'THE',\n",
    "    'LAZY', 'DOG']\n",
    "    b) ['the', 'quick', 'brown', 'fox', 'jumps', 'over', 'the',\n",
    "    'lazy', 'dog']\n",
    "    c) [3, 5, 5, 3, 5, 4, 3, 4, 3] (the list of lengths of words in list\n",
    "    words).\n",
    "    d) [['THE', 'the', 3], ['QUICK', 'quick', 5], ['BROWN',\n",
    "    'brown', 5], ['FOX', 'fox', 3], ['JUMPS', 'jumps', 5],\n",
    "    ['OVER', 'over', 4], ['THE', 'the', 3], ['LAZY', 'lazy',\n",
    "    4], ['DOG', 'dog', 3]] (the list containing a list for every word of list\n",
    "    words, where each list contains the word in uppercase and lowercase and the\n",
    "    length of the word.)\n",
    "    e) ['The', 'quick', 'brown', 'fox', 'jumps', 'over', 'the',\n",
    "    'lazy', 'dog'] (the list of words in list words containing 4 or more\n",
    "    characters.)"
   ]
  },
  {
   "cell_type": "code",
   "execution_count": 34,
   "metadata": {},
   "outputs": [
    {
     "data": {
      "text/plain": [
       "['The', 'quick', 'brown', 'fox', 'jumps', 'over', 'the', 'lazy', 'dog']"
      ]
     },
     "execution_count": 34,
     "metadata": {},
     "output_type": "execute_result"
    }
   ],
   "source": [
    "# Creating the original word list\n",
    "words = ['The', 'quick', 'brown', 'fox', 'jumps', 'over',\n",
    "    'the', 'lazy', 'dog']\n",
    "words"
   ]
  },
  {
   "cell_type": "code",
   "execution_count": 35,
   "metadata": {},
   "outputs": [
    {
     "data": {
      "text/plain": [
       "['THE', 'QUICK', 'BROWN', 'FOX', 'JUMPS', 'OVER', 'THE', 'LAZY', 'DOG']"
      ]
     },
     "execution_count": 35,
     "metadata": {},
     "output_type": "execute_result"
    }
   ],
   "source": [
    "# To get list comprehension for a)\n",
    "list_comp_1 = [char.upper() for char in words]\n",
    "list_comp_1"
   ]
  },
  {
   "cell_type": "code",
   "execution_count": 36,
   "metadata": {},
   "outputs": [
    {
     "data": {
      "text/plain": [
       "['the', 'quick', 'brown', 'fox', 'jumps', 'over', 'the', 'lazy', 'dog']"
      ]
     },
     "execution_count": 36,
     "metadata": {},
     "output_type": "execute_result"
    }
   ],
   "source": [
    "# To get list comprehension for b)\n",
    "list_comp_2 = [char.lower() for char in words]\n",
    "list_comp_2"
   ]
  },
  {
   "cell_type": "code",
   "execution_count": 37,
   "metadata": {},
   "outputs": [
    {
     "data": {
      "text/plain": [
       "[3, 5, 5, 3, 5, 4, 3, 4, 3]"
      ]
     },
     "execution_count": 37,
     "metadata": {},
     "output_type": "execute_result"
    }
   ],
   "source": [
    "# To get list comprehension for c)\n",
    "list_comp_3 = [len(char) for char in words]\n",
    "list_comp_3"
   ]
  },
  {
   "cell_type": "code",
   "execution_count": 38,
   "metadata": {},
   "outputs": [
    {
     "data": {
      "text/plain": [
       "[['THE', 'the', 3],\n",
       " ['QUICK', 'quick', 5],\n",
       " ['BROWN', 'brown', 5],\n",
       " ['FOX', 'fox', 3],\n",
       " ['JUMPS', 'jumps', 5],\n",
       " ['OVER', 'over', 4],\n",
       " ['THE', 'the', 3],\n",
       " ['LAZY', 'lazy', 4],\n",
       " ['DOG', 'dog', 3]]"
      ]
     },
     "execution_count": 38,
     "metadata": {},
     "output_type": "execute_result"
    }
   ],
   "source": [
    "# To get list comprehension for d)\n",
    "list_comp_4 = [[char.upper(),char.lower(),len(char)] for char in words]\n",
    "list_comp_4"
   ]
  },
  {
   "cell_type": "code",
   "execution_count": 39,
   "metadata": {},
   "outputs": [
    {
     "data": {
      "text/plain": [
       "['quick', 'brown', 'jumps', 'over', 'lazy']"
      ]
     },
     "execution_count": 39,
     "metadata": {},
     "output_type": "execute_result"
    }
   ],
   "source": [
    "# To get list comprehension for e)\n",
    "list_comp_5 = [char for char in words if len(char)>=4]\n",
    "list_comp_5"
   ]
  },
  {
   "cell_type": "code",
   "execution_count": null,
   "metadata": {},
   "outputs": [],
   "source": []
  }
 ],
 "metadata": {
  "kernelspec": {
   "display_name": "Python 3",
   "language": "python",
   "name": "python3"
  },
  "language_info": {
   "codemirror_mode": {
    "name": "ipython",
    "version": 3
   },
   "file_extension": ".py",
   "mimetype": "text/x-python",
   "name": "python",
   "nbconvert_exporter": "python",
   "pygments_lexer": "ipython3",
   "version": "3.7.6"
  }
 },
 "nbformat": 4,
 "nbformat_minor": 4
}
